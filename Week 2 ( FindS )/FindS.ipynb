{
  "nbformat": 4,
  "nbformat_minor": 0,
  "metadata": {
    "colab": {
      "provenance": []
    },
    "kernelspec": {
      "name": "python3",
      "display_name": "Python 3"
    },
    "language_info": {
      "name": "python"
    }
  },
  "cells": [
    {
      "cell_type": "code",
      "source": [
        "from  google.colab import drive\n",
        "import pandas as pd \n",
        "import numpy as np\n",
        "import csv\n",
        "\n",
        "drive.mount('/content/gdrive')\n",
        "csv_path = '/content/ML1.csv'"
      ],
      "metadata": {
        "colab": {
          "base_uri": "https://localhost:8080/",
          "height": 0
        },
        "id": "LS2bdNYIu9ox",
        "outputId": "075374af-c9f3-471a-f40b-048bf670b2ad"
      },
      "execution_count": 9,
      "outputs": [
        {
          "output_type": "stream",
          "name": "stdout",
          "text": [
            "Mounted at /content/gdrive\n"
          ]
        }
      ]
    },
    {
      "cell_type": "code",
      "source": [
        "#Training function to implement find-s algorithm\n",
        "def updateHypothesis(c,t):\n",
        "    for i, val in enumerate(t):\n",
        "        if val == \"\\'Yes\\'\" or val == 'Yes':\n",
        "            specific_hypothesis = c[i].copy()\n",
        "            break\n",
        "             \n",
        "    for i, val in enumerate(c):\n",
        "        if t[i] == \"\\'Yes\\'\" or t[i] == 'Yes':\n",
        "            for x in range(len(specific_hypothesis)):\n",
        "                if val[x] != specific_hypothesis[x]:\n",
        "                    specific_hypothesis[x] = '?'\n",
        "                else:\n",
        "                    pass\n",
        "                 \n",
        "    return specific_hypothesis"
      ],
      "metadata": {
        "id": "LTbvVktbu36b"
      },
      "execution_count": 16,
      "outputs": []
    },
    {
      "cell_type": "code",
      "source": [
        "data = pd.read_csv(csv_path)\n",
        "d = np.array(data)[:,:-1]\n",
        "target = np.array(data)[:,-1]\n",
        "\n",
        "print(\"The final hypothesis is: <\", ','.join(updateHypothesis(d, target)), \">\")"
      ],
      "metadata": {
        "colab": {
          "base_uri": "https://localhost:8080/",
          "height": 0
        },
        "id": "gOMn6KJYu6FS",
        "outputId": "290201bf-7c71-49ac-a975-d3bb8a6241a3"
      },
      "execution_count": 17,
      "outputs": [
        {
          "output_type": "stream",
          "name": "stdout",
          "text": [
            "The final hypothesis is: < Sunny,Warm ,?,Strong,?,? >\n"
          ]
        }
      ]
    }
  ]
}